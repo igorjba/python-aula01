{
  "nbformat": 4,
  "nbformat_minor": 0,
  "metadata": {
    "colab": {
      "provenance": [],
      "authorship_tag": "ABX9TyMkX/BHuUVEmi/Kk0g2C1fu"
    },
    "kernelspec": {
      "name": "python3",
      "display_name": "Python 3"
    },
    "language_info": {
      "name": "python"
    }
  },
  "cells": [
    {
      "cell_type": "code",
      "execution_count": null,
      "metadata": {
        "colab": {
          "base_uri": "https://localhost:8080/"
        },
        "id": "a9F07-mWnQzn",
        "outputId": "91afc577-ed8e-4d98-ba16-7de83e9b7ffa"
      },
      "outputs": [
        {
          "output_type": "stream",
          "name": "stdout",
          "text": [
            "Igor\n"
          ]
        }
      ],
      "source": [
        "nome = \"Igor\"\n",
        "print(nome)     "
      ]
    },
    {
      "cell_type": "code",
      "source": [
        "nome = \"Guilherme\"\n",
        "nome"
      ],
      "metadata": {
        "colab": {
          "base_uri": "https://localhost:8080/",
          "height": 35
        },
        "id": "LnSKvD_FofkK",
        "outputId": "63163a3e-9d77-4168-bb9e-5782b3974326"
      },
      "execution_count": null,
      "outputs": [
        {
          "output_type": "execute_result",
          "data": {
            "text/plain": [
              "'Guilherme'"
            ],
            "application/vnd.google.colaboratory.intrinsic+json": {
              "type": "string"
            }
          },
          "metadata": {},
          "execution_count": 3
        }
      ]
    },
    {
      "cell_type": "code",
      "source": [
        "idade = 37\n",
        "idade"
      ],
      "metadata": {
        "colab": {
          "base_uri": "https://localhost:8080/"
        },
        "id": "IzqTczjropMi",
        "outputId": "f96c8038-b840-4a08-d47f-cdecb9cc1f17"
      },
      "execution_count": null,
      "outputs": [
        {
          "output_type": "execute_result",
          "data": {
            "text/plain": [
              "37"
            ]
          },
          "metadata": {},
          "execution_count": 4
        }
      ]
    },
    {
      "cell_type": "code",
      "source": [
        "idade + 3"
      ],
      "metadata": {
        "colab": {
          "base_uri": "https://localhost:8080/"
        },
        "id": "iSAnkP5Zouju",
        "outputId": "043deffa-424e-4881-f4cc-71db7dd4da1c"
      },
      "execution_count": null,
      "outputs": [
        {
          "output_type": "execute_result",
          "data": {
            "text/plain": [
              "40"
            ]
          },
          "metadata": {},
          "execution_count": 5
        }
      ]
    },
    {
      "cell_type": "code",
      "source": [
        "idade"
      ],
      "metadata": {
        "colab": {
          "base_uri": "https://localhost:8080/"
        },
        "id": "UdUgQbm3oynY",
        "outputId": "a2c0cbfd-f301-4798-e621-7041b168e69b"
      },
      "execution_count": null,
      "outputs": [
        {
          "output_type": "execute_result",
          "data": {
            "text/plain": [
              "37"
            ]
          },
          "metadata": {},
          "execution_count": 6
        }
      ]
    },
    {
      "cell_type": "code",
      "source": [
        "function maisUmAno (idade) {\n",
        "    return idade + 1\n",
        "}"
      ],
      "metadata": {
        "id": "7hl32sbio2GB"
      },
      "execution_count": null,
      "outputs": []
    },
    {
      "cell_type": "code",
      "source": [
        "def mais_um_ano(idade):\n",
        "  print(\"ta dentro dessa funcao\")\n",
        "  return idade + 1"
      ],
      "metadata": {
        "id": "Gj8I091QpiPx"
      },
      "execution_count": null,
      "outputs": []
    },
    {
      "cell_type": "code",
      "source": [
        "mais_um_ano(43)"
      ],
      "metadata": {
        "colab": {
          "base_uri": "https://localhost:8080/"
        },
        "id": "6k_svM_FqJAU",
        "outputId": "f540d1f6-b86b-493a-dfe3-bd0de90a3ff0"
      },
      "execution_count": null,
      "outputs": [
        {
          "output_type": "stream",
          "name": "stdout",
          "text": [
            "ta dentro dessa funcao\n"
          ]
        },
        {
          "output_type": "execute_result",
          "data": {
            "text/plain": [
              "44"
            ]
          },
          "metadata": {},
          "execution_count": 8
        }
      ]
    },
    {
      "cell_type": "code",
      "source": [
        "filme1 = \"Toy Story 17\"\n",
        "filme2 = \"A Xuxa contra o Baixo Astral\"\n",
        "filme3 = \"Matrix 1\""
      ],
      "metadata": {
        "id": "2DE0v9NXqkNR"
      },
      "execution_count": null,
      "outputs": []
    },
    {
      "cell_type": "code",
      "source": [
        "filmes = [\"Toy Story 17\", \"A Xuxa contra o Baixo Astral\", \"Matrix 1\"]\n",
        "filmes"
      ],
      "metadata": {
        "colab": {
          "base_uri": "https://localhost:8080/"
        },
        "id": "6bWDBDZfrXZ0",
        "outputId": "6a5bf9ac-494b-45f7-eb7b-c23bc8822635"
      },
      "execution_count": null,
      "outputs": [
        {
          "output_type": "execute_result",
          "data": {
            "text/plain": [
              "['Toy Story 17', 'A Xuxa contra o Baixo Astral', 'Matrix 1']"
            ]
          },
          "metadata": {},
          "execution_count": 10
        }
      ]
    },
    {
      "cell_type": "code",
      "source": [
        "filmes = [filme1, filme2, filme3]\n",
        "filmes"
      ],
      "metadata": {
        "colab": {
          "base_uri": "https://localhost:8080/"
        },
        "id": "Dliq_WsqrmzZ",
        "outputId": "921d070f-0fd8-48f6-8e1d-3d8cd6c06672"
      },
      "execution_count": null,
      "outputs": [
        {
          "output_type": "execute_result",
          "data": {
            "text/plain": [
              "['Toy Story 17', 'A Xuxa contra o Baixo Astral', 'Matrix 1']"
            ]
          },
          "metadata": {},
          "execution_count": 14
        }
      ]
    },
    {
      "cell_type": "code",
      "source": [
        "list()"
      ],
      "metadata": {
        "colab": {
          "base_uri": "https://localhost:8080/"
        },
        "id": "UpXDNRvlsJ16",
        "outputId": "aaf28975-9e3d-4815-8e2a-c9eb221283dc"
      },
      "execution_count": null,
      "outputs": [
        {
          "output_type": "execute_result",
          "data": {
            "text/plain": [
              "[]"
            ]
          },
          "metadata": {},
          "execution_count": 15
        }
      ]
    },
    {
      "cell_type": "code",
      "source": [
        "def imprime_filmes(filmes_que_quero_imprimir):\n",
        "  print(\"A lista de filmes que eu tenho disponível\")\n",
        "  print(filmes_que_quero_imprimir)"
      ],
      "metadata": {
        "id": "KgJi_qQ_sRUq"
      },
      "execution_count": null,
      "outputs": []
    },
    {
      "cell_type": "code",
      "source": [
        "imprime_filmes(filmes)\n",
        "imprime_filmes(filmes)\n",
        "imprime_filmes(filmes)"
      ],
      "metadata": {
        "colab": {
          "base_uri": "https://localhost:8080/"
        },
        "id": "TVr_tJlkspTe",
        "outputId": "7d4e8d50-a3fb-421d-9e4d-5cebd99ff0ec"
      },
      "execution_count": null,
      "outputs": [
        {
          "output_type": "stream",
          "name": "stdout",
          "text": [
            "A lista de filmes que eu tenho disponível\n",
            "['Toy Story 17', 'A Xuxa contra o Baixo Astral', 'Matrix 1']\n",
            "A lista de filmes que eu tenho disponível\n",
            "['Toy Story 17', 'A Xuxa contra o Baixo Astral', 'Matrix 1']\n",
            "A lista de filmes que eu tenho disponível\n",
            "['Toy Story 17', 'A Xuxa contra o Baixo Astral', 'Matrix 1']\n"
          ]
        }
      ]
    },
    {
      "cell_type": "code",
      "source": [
        "filmes[1]"
      ],
      "metadata": {
        "colab": {
          "base_uri": "https://localhost:8080/",
          "height": 35
        },
        "id": "xO-61BMTtA8g",
        "outputId": "3715e695-f2a1-4d36-96a3-4c478433618d"
      },
      "execution_count": null,
      "outputs": [
        {
          "output_type": "execute_result",
          "data": {
            "text/plain": [
              "'A Xuxa contra o Baixo Astral'"
            ],
            "application/vnd.google.colaboratory.intrinsic+json": {
              "type": "string"
            }
          },
          "metadata": {},
          "execution_count": 21
        }
      ]
    },
    {
      "cell_type": "code",
      "source": [
        "filmes[2]"
      ],
      "metadata": {
        "colab": {
          "base_uri": "https://localhost:8080/",
          "height": 35
        },
        "id": "40C6JPF9tOrt",
        "outputId": "b7a0abe2-c9a2-4fff-e883-b4e270f032c7"
      },
      "execution_count": null,
      "outputs": [
        {
          "output_type": "execute_result",
          "data": {
            "text/plain": [
              "'Matrix 1'"
            ],
            "application/vnd.google.colaboratory.intrinsic+json": {
              "type": "string"
            }
          },
          "metadata": {},
          "execution_count": 22
        }
      ]
    },
    {
      "cell_type": "code",
      "source": [
        "filmes[3]"
      ],
      "metadata": {
        "colab": {
          "base_uri": "https://localhost:8080/",
          "height": 174
        },
        "id": "hAQxh9DttV1E",
        "outputId": "b6c22294-ce21-4e86-d30e-55dbf3263ed7"
      },
      "execution_count": null,
      "outputs": [
        {
          "output_type": "error",
          "ename": "IndexError",
          "evalue": "ignored",
          "traceback": [
            "\u001b[0;31m---------------------------------------------------------------------------\u001b[0m",
            "\u001b[0;31mIndexError\u001b[0m                                Traceback (most recent call last)",
            "\u001b[0;32m<ipython-input-23-139313b4a142>\u001b[0m in \u001b[0;36m<module>\u001b[0;34m\u001b[0m\n\u001b[0;32m----> 1\u001b[0;31m \u001b[0mfilmes\u001b[0m\u001b[0;34m[\u001b[0m\u001b[0;36m3\u001b[0m\u001b[0;34m]\u001b[0m\u001b[0;34m\u001b[0m\u001b[0;34m\u001b[0m\u001b[0m\n\u001b[0m",
            "\u001b[0;31mIndexError\u001b[0m: list index out of range"
          ]
        }
      ]
    },
    {
      "cell_type": "code",
      "source": [
        "filmes[-1]"
      ],
      "metadata": {
        "colab": {
          "base_uri": "https://localhost:8080/",
          "height": 35
        },
        "id": "6FWtFh0WtaJ_",
        "outputId": "e4c369f5-0333-4595-8f58-a3b9c8eb6945"
      },
      "execution_count": null,
      "outputs": [
        {
          "output_type": "execute_result",
          "data": {
            "text/plain": [
              "'Matrix 1'"
            ],
            "application/vnd.google.colaboratory.intrinsic+json": {
              "type": "string"
            }
          },
          "metadata": {},
          "execution_count": 24
        }
      ]
    },
    {
      "cell_type": "code",
      "source": [
        "filmes[-2]"
      ],
      "metadata": {
        "colab": {
          "base_uri": "https://localhost:8080/",
          "height": 35
        },
        "id": "WlxDZUDi5dWe",
        "outputId": "04d06749-61ee-425a-e6c7-ee202fefcac1"
      },
      "execution_count": null,
      "outputs": [
        {
          "output_type": "execute_result",
          "data": {
            "text/plain": [
              "'A Xuxa contra o Baixo Astral'"
            ],
            "application/vnd.google.colaboratory.intrinsic+json": {
              "type": "string"
            }
          },
          "metadata": {},
          "execution_count": 27
        }
      ]
    },
    {
      "cell_type": "code",
      "source": [
        "filmes[1:]"
      ],
      "metadata": {
        "colab": {
          "base_uri": "https://localhost:8080/"
        },
        "id": "6BwBFvUv5jLN",
        "outputId": "6b52ca9d-4a82-40e5-c8c4-05f04eccb27d"
      },
      "execution_count": null,
      "outputs": [
        {
          "output_type": "execute_result",
          "data": {
            "text/plain": [
              "['A Xuxa contra o Baixo Astral', 'Matrix 1']"
            ]
          },
          "metadata": {},
          "execution_count": 29
        }
      ]
    },
    {
      "cell_type": "code",
      "source": [
        "filmes[-2:]"
      ],
      "metadata": {
        "colab": {
          "base_uri": "https://localhost:8080/"
        },
        "id": "kmYYJjL55rf-",
        "outputId": "6bf19188-0a55-4fca-a0a6-f06395fd6a05"
      },
      "execution_count": null,
      "outputs": [
        {
          "output_type": "execute_result",
          "data": {
            "text/plain": [
              "['A Xuxa contra o Baixo Astral', 'Matrix 1']"
            ]
          },
          "metadata": {},
          "execution_count": 30
        }
      ]
    },
    {
      "cell_type": "code",
      "source": [
        "for filme in filmes:\n",
        "  print(filme)\n",
        "  print(\"...\")\n",
        "print(\"estou fora\")"
      ],
      "metadata": {
        "colab": {
          "base_uri": "https://localhost:8080/"
        },
        "id": "oe3HIAm454xu",
        "outputId": "004190dd-3cf3-4cc5-e400-b573691c2a7e"
      },
      "execution_count": null,
      "outputs": [
        {
          "output_type": "stream",
          "name": "stdout",
          "text": [
            "Toy Story 17\n",
            "...\n",
            "A Xuxa contra o Baixo Astral\n",
            "...\n",
            "Matrix 1\n",
            "...\n",
            "estou fora\n"
          ]
        }
      ]
    },
    {
      "cell_type": "code",
      "source": [
        "def imprime_filmes(filmes_que_quero_imprimir):\n",
        "  print(\"A lista de filmes que eu tenho disponível\")\n",
        "  for filme in filmes_que_quero_imprimir:\n",
        "    print(filme)\n"
      ],
      "metadata": {
        "id": "pi8r8KVm6Sb-"
      },
      "execution_count": null,
      "outputs": []
    },
    {
      "cell_type": "code",
      "source": [
        "imprime_filmes(filmes)"
      ],
      "metadata": {
        "colab": {
          "base_uri": "https://localhost:8080/"
        },
        "id": "Y_BCMnyS62r9",
        "outputId": "7672325c-f044-4e17-c7a2-7a2b491f4560"
      },
      "execution_count": null,
      "outputs": [
        {
          "output_type": "stream",
          "name": "stdout",
          "text": [
            "A lista de filmes que eu tenho disponível\n",
            "Toy Story 17\n",
            "A Xuxa contra o Baixo Astral\n",
            "Matrix 1\n"
          ]
        }
      ]
    },
    {
      "cell_type": "code",
      "source": [
        "dados = {\"nome\" : \"Guilherme\", \n",
        "         \"idade\" : 37, \n",
        "         \"empresa\" : \"Alura\"}\n",
        "dados"
      ],
      "metadata": {
        "colab": {
          "base_uri": "https://localhost:8080/"
        },
        "id": "_o184Uyl7EbN",
        "outputId": "596e0e06-4f5f-4ae4-e041-01573c0657dd"
      },
      "execution_count": null,
      "outputs": [
        {
          "output_type": "execute_result",
          "data": {
            "text/plain": [
              "{'nome': 'Guilherme', 'idade': 37, 'empresa': 'Alura'}"
            ]
          },
          "metadata": {},
          "execution_count": 36
        }
      ]
    },
    {
      "cell_type": "code",
      "source": [
        "dados[\"nome\"]"
      ],
      "metadata": {
        "colab": {
          "base_uri": "https://localhost:8080/",
          "height": 35
        },
        "id": "kBFeCleB7tj-",
        "outputId": "0501e052-0fb9-4e2e-bbcd-d6f4eb85c4dd"
      },
      "execution_count": null,
      "outputs": [
        {
          "output_type": "execute_result",
          "data": {
            "text/plain": [
              "'Guilherme'"
            ],
            "application/vnd.google.colaboratory.intrinsic+json": {
              "type": "string"
            }
          },
          "metadata": {},
          "execution_count": 37
        }
      ]
    },
    {
      "cell_type": "code",
      "source": [
        "dados[\"empresa\"]"
      ],
      "metadata": {
        "colab": {
          "base_uri": "https://localhost:8080/",
          "height": 35
        },
        "id": "03QvEnuY72Vu",
        "outputId": "a5036d99-bf48-44b0-d3af-e437c3ffb82c"
      },
      "execution_count": null,
      "outputs": [
        {
          "output_type": "execute_result",
          "data": {
            "text/plain": [
              "'Alura'"
            ],
            "application/vnd.google.colaboratory.intrinsic+json": {
              "type": "string"
            }
          },
          "metadata": {},
          "execution_count": 38
        }
      ]
    },
    {
      "cell_type": "code",
      "source": [],
      "metadata": {
        "id": "acLE7TZP762e"
      },
      "execution_count": null,
      "outputs": []
    }
  ]
}